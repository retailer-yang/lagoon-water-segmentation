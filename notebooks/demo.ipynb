{
  "cells": [
    {
      "cell_type": "markdown",
      "metadata": {},
      "source": [
        "# 潟湖水域分割演示\n",
        "\n",
        "本notebook演示如何使用潟湖水域分割模型进行训练和预测。\n"
      ]
    },
    {
      "cell_type": "markdown",
      "metadata": {},
      "source": [
        "## 1. 导入必要的库\n"
      ]
    },
    {
      "cell_type": "code",
      "execution_count": null,
      "metadata": {},
      "outputs": [],
      "source": [
        "import sys\n",
        "sys.path.append('..')\n",
        "\n",
        "import torch\n",
        "import numpy as np\n",
        "import matplotlib.pyplot as plt\n",
        "from pathlib import Path\n",
        "\n",
        "from src.models.model_factory import create_model, count_parameters\n",
        "from src.data.dataset import LagoonDataset\n",
        "from src.data.preprocessing import get_training_augmentation, get_validation_augmentation\n",
        "from src.utils.metrics import calculate_metrics\n",
        "from src.utils.visualization import visualize_prediction\n",
        "\n",
        "# 设置中文字体\n",
        "plt.rcParams['font.sans-serif'] = ['Arial Unicode MS', 'SimHei']\n",
        "plt.rcParams['axes.unicode_minus'] = False\n",
        "\n",
        "print(f\"PyTorch版本: {torch.__version__}\")\n",
        "print(f\"CUDA可用: {torch.cuda.is_available()}\")\n",
        "if torch.cuda.is_available():\n",
        "    print(f\"CUDA版本: {torch.version.cuda}\")\n",
        "    print(f\"GPU设备: {torch.cuda.get_device_name(0)}\")\n"
      ]
    }
  ],
  "metadata": {
    "language_info": {
      "name": "python"
    }
  },
  "nbformat": 4,
  "nbformat_minor": 2
}
